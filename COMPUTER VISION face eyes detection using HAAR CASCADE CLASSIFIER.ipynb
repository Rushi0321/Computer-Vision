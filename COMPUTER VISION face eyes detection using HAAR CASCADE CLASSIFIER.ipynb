{
 "cells": [
  {
   "cell_type": "code",
   "execution_count": 1,
   "id": "afd5430a",
   "metadata": {},
   "outputs": [],
   "source": [
    "import numpy as np\n",
    "import cv2\n",
    "import time"
   ]
  },
  {
   "cell_type": "code",
   "execution_count": 2,
   "id": "b6d36764",
   "metadata": {},
   "outputs": [],
   "source": [
    "#detecting face by using haar classsifier which provides various features like edge,rectangle,line feature which is helpful to classify or detect face or any other aspect..."
   ]
  },
  {
   "cell_type": "code",
   "execution_count": 3,
   "id": "de176c84",
   "metadata": {},
   "outputs": [],
   "source": [
    "face_classifier=cv2.CascadeClassifier('C:\\haarcascade/haarcascade_frontalface_default.xml')#imorting haar cascade front vface classifier using cv2"
   ]
  },
  {
   "cell_type": "code",
   "execution_count": 4,
   "id": "16aa327a",
   "metadata": {},
   "outputs": [],
   "source": [
    "#now read the image of any person...\n",
    "Messi=cv2.imread('Lionel-Messi-Barcelona-star-opens-up-on-free-kick-technique-1636385.jpg')"
   ]
  },
  {
   "cell_type": "code",
   "execution_count": 5,
   "id": "0af784a4",
   "metadata": {},
   "outputs": [
    {
     "data": {
      "text/plain": [
       "array([[[17, 15, 15],\n",
       "        [16, 14, 14],\n",
       "        [14, 12, 12],\n",
       "        ...,\n",
       "        [12,  7,  6],\n",
       "        [12,  7,  6],\n",
       "        [12,  7,  6]],\n",
       "\n",
       "       [[18, 16, 16],\n",
       "        [16, 14, 14],\n",
       "        [14, 12, 12],\n",
       "        ...,\n",
       "        [12,  7,  6],\n",
       "        [12,  7,  6],\n",
       "        [12,  7,  6]],\n",
       "\n",
       "       [[18, 16, 16],\n",
       "        [17, 15, 15],\n",
       "        [15, 13, 13],\n",
       "        ...,\n",
       "        [12,  7,  6],\n",
       "        [12,  7,  6],\n",
       "        [12,  7,  6]],\n",
       "\n",
       "       ...,\n",
       "\n",
       "       [[ 1, 63, 49],\n",
       "        [ 4, 66, 52],\n",
       "        [ 7, 69, 55],\n",
       "        ...,\n",
       "        [21, 83, 71],\n",
       "        [21, 83, 71],\n",
       "        [21, 83, 71]],\n",
       "\n",
       "       [[ 0, 62, 48],\n",
       "        [ 3, 65, 51],\n",
       "        [ 6, 68, 54],\n",
       "        ...,\n",
       "        [24, 86, 74],\n",
       "        [24, 86, 74],\n",
       "        [24, 86, 74]],\n",
       "\n",
       "       [[ 0, 62, 48],\n",
       "        [ 3, 65, 51],\n",
       "        [ 6, 68, 54],\n",
       "        ...,\n",
       "        [26, 88, 76],\n",
       "        [26, 88, 76],\n",
       "        [25, 87, 75]]], dtype=uint8)"
      ]
     },
     "execution_count": 5,
     "metadata": {},
     "output_type": "execute_result"
    }
   ],
   "source": [
    "Messi"
   ]
  },
  {
   "cell_type": "code",
   "execution_count": 6,
   "id": "c9c97f26",
   "metadata": {},
   "outputs": [],
   "source": [
    "#now convert that image into gray colored image from RGB image...because it will be easy & faster to process on gray colored image than RGB image\n",
    "gray=cv2.cvtColor(Messi,cv2.COLOR_BGR2GRAY)\n"
   ]
  },
  {
   "cell_type": "code",
   "execution_count": 7,
   "id": "847134a6",
   "metadata": {},
   "outputs": [],
   "source": [
    "faces=face_classifier.detectMultiScale(gray,1.3,5)"
   ]
  },
  {
   "cell_type": "code",
   "execution_count": 8,
   "id": "37096543",
   "metadata": {},
   "outputs": [],
   "source": [
    "#MultiScale detects objects of different sizes in the input image and returns rectangles positioned on the faces\n",
    "#scalefactor=1.3 (how much the image size will be reduced at each image scale)\n",
    "#minNeighbors=5 (how many neighbors each rectangle should have). \n",
    "#The values of 1.3 and 5 are based on experimenting and choosing those that worked best."
   ]
  },
  {
   "cell_type": "code",
   "execution_count": 9,
   "id": "899e54ae",
   "metadata": {},
   "outputs": [
    {
     "name": "stderr",
     "output_type": "stream",
     "text": [
      "<>:2: SyntaxWarning: \"is\" with a literal. Did you mean \"==\"?\n",
      "<>:2: SyntaxWarning: \"is\" with a literal. Did you mean \"==\"?\n",
      "C:\\Users\\91916\\AppData\\Local\\Temp\\ipykernel_21204\\1397040855.py:2: SyntaxWarning: \"is\" with a literal. Did you mean \"==\"?\n",
      "  if faces is ():\n"
     ]
    }
   ],
   "source": [
    "#if no fgace is detected then face classifier will retuen empty tuple...\n",
    "if faces is ():\n",
    "    print(\"no face found on image\")"
   ]
  },
  {
   "cell_type": "code",
   "execution_count": 10,
   "id": "cb468ab3",
   "metadata": {},
   "outputs": [],
   "source": [
    "for x,y,w,h in faces:\n",
    "    cv2.rectangle(Messi,(x,y),(x+w,y+h),(127,0,255),3)\n",
    "    cv2.imshow('face_detection',Messi)\n",
    "    cv2.waitKey()\n",
    "cv2.destroyAllWindows()"
   ]
  },
  {
   "cell_type": "code",
   "execution_count": 11,
   "id": "52bfda0f",
   "metadata": {},
   "outputs": [],
   "source": [
    "#(127,0,255) is the color of the frame in RGB\n",
    "#The last parameter (2) is the thickness of the rectangle\n",
    "#x is the horizontal initial position, w is the width, y is the vertical initial position, h is the height."
   ]
  },
  {
   "cell_type": "markdown",
   "id": "3ccb1f95",
   "metadata": {},
   "source": [
    "# eyes detection..."
   ]
  },
  {
   "cell_type": "code",
   "execution_count": 12,
   "id": "6e4484cb",
   "metadata": {},
   "outputs": [],
   "source": [
    "eye_classifier = cv2.CascadeClassifier('C:\\haarcascade/haarcascade_eye.xml')"
   ]
  },
  {
   "cell_type": "code",
   "execution_count": 13,
   "id": "2a89208e",
   "metadata": {},
   "outputs": [],
   "source": [
    "#roi_gray = gray[y:y+h, x:x+w] Here we are setting roi_gray to be our region of interest. That’s where we will look for the eyes."
   ]
  },
  {
   "cell_type": "code",
   "execution_count": 14,
   "id": "9a2bf9fb",
   "metadata": {},
   "outputs": [],
   "source": [
    "#roi_color = frame[y:y+h, x:x+w] We are getting the region of interest in the original frame (colored, not black & white)."
   ]
  },
  {
   "cell_type": "code",
   "execution_count": 15,
   "id": "d699c530",
   "metadata": {},
   "outputs": [],
   "source": [
    "#we apply the same concepts to find the eyes. \n",
    "#The difference is that we won’t look inside the whole image. \n",
    "#We will be using the region of interest (roi_gray and roi_color), then drawing the rectangles for the eyes in the frame."
   ]
  },
  {
   "cell_type": "code",
   "execution_count": 16,
   "id": "63fbe1e7",
   "metadata": {},
   "outputs": [],
   "source": [
    "for (x,y,w,h) in faces:\n",
    "    cv2.rectangle(Messi,(x,y),(x+w,y+h),(127,0,255),2)\n",
    "    cv2.imshow('Messi_Face',Messi)\n",
    "    cv2.waitKey(0)\n",
    "    roi_gray = gray[y:y+h, x:x+w]\n",
    "    roi_color = Messi[y:y+h, x:x+w]\n",
    "    eyes = eye_classifier.detectMultiScale(roi_gray)#like face classifier we are using eyes classifier from haar cascade classifier...\n",
    "    for (ex,ey,ew,eh) in eyes:\n",
    "        cv2.rectangle(roi_color,(ex,ey),(ex+ew,ey+eh),(255,255,0),2)#we are creating new variables like x,y,h,w for detecting eyes in roi_gray...\n",
    "        cv2.imshow('Messi_image',Messi)\n",
    "        cv2.waitKey(0)\n",
    "    \n",
    "cv2.destroyAllWindows()"
   ]
  },
  {
   "cell_type": "code",
   "execution_count": null,
   "id": "0e6c35be",
   "metadata": {},
   "outputs": [],
   "source": []
  }
 ],
 "metadata": {
  "kernelspec": {
   "display_name": "Python 3 (ipykernel)",
   "language": "python",
   "name": "python3"
  },
  "language_info": {
   "codemirror_mode": {
    "name": "ipython",
    "version": 3
   },
   "file_extension": ".py",
   "mimetype": "text/x-python",
   "name": "python",
   "nbconvert_exporter": "python",
   "pygments_lexer": "ipython3",
   "version": "3.9.13"
  }
 },
 "nbformat": 4,
 "nbformat_minor": 5
}
