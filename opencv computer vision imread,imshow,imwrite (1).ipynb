{
 "cells": [
  {
   "cell_type": "code",
   "execution_count": 1,
   "id": "4edc96e8",
   "metadata": {},
   "outputs": [],
   "source": [
    "import cv2\n"
   ]
  },
  {
   "cell_type": "code",
   "execution_count": 2,
   "id": "a0511592",
   "metadata": {},
   "outputs": [],
   "source": [
    "import numpy as np"
   ]
  },
  {
   "cell_type": "code",
   "execution_count": 3,
   "id": "a11268bd",
   "metadata": {},
   "outputs": [],
   "source": [
    "a=cv2.imread('Lionel_Messi_Argentina_2022.jpg')#imread will help us read a image file...."
   ]
  },
  {
   "cell_type": "code",
   "execution_count": 4,
   "id": "8c56031f",
   "metadata": {},
   "outputs": [
    {
     "data": {
      "text/plain": [
       "array([[[110, 129, 132],\n",
       "        [106, 125, 128],\n",
       "        [103, 122, 125],\n",
       "        ...,\n",
       "        [ 77,  90,  82],\n",
       "        [ 83,  96,  88],\n",
       "        [ 80,  93,  85]],\n",
       "\n",
       "       [[112, 131, 134],\n",
       "        [111, 130, 133],\n",
       "        [110, 129, 132],\n",
       "        ...,\n",
       "        [ 76,  89,  81],\n",
       "        [ 78,  91,  83],\n",
       "        [ 76,  89,  81]],\n",
       "\n",
       "       [[110, 129, 134],\n",
       "        [112, 131, 136],\n",
       "        [113, 132, 137],\n",
       "        ...,\n",
       "        [ 75,  88,  80],\n",
       "        [ 73,  86,  78],\n",
       "        [ 73,  86,  78]],\n",
       "\n",
       "       ...,\n",
       "\n",
       "       [[118, 148, 173],\n",
       "        [110, 140, 165],\n",
       "        [105, 135, 160],\n",
       "        ...,\n",
       "        [ 38,  45,  42],\n",
       "        [ 40,  47,  44],\n",
       "        [ 39,  46,  43]],\n",
       "\n",
       "       [[122, 152, 179],\n",
       "        [116, 146, 173],\n",
       "        [113, 142, 169],\n",
       "        ...,\n",
       "        [ 39,  46,  43],\n",
       "        [ 40,  47,  44],\n",
       "        [ 40,  47,  44]],\n",
       "\n",
       "       [[121, 154, 180],\n",
       "        [116, 149, 175],\n",
       "        [116, 144, 174],\n",
       "        ...,\n",
       "        [ 39,  46,  43],\n",
       "        [ 39,  46,  43],\n",
       "        [ 39,  46,  43]]], dtype=uint8)"
      ]
     },
     "execution_count": 4,
     "metadata": {},
     "output_type": "execute_result"
    }
   ],
   "source": [
    "a#imread helps us read image file by array...."
   ]
  },
  {
   "cell_type": "code",
   "execution_count": 5,
   "id": "1f0679fe",
   "metadata": {},
   "outputs": [],
   "source": [
    "cv2.imshow('hello wc champ',a)#imshow will show us image of image file...\n",
    "cv2.waitKey()#waitkey() function of Python OpenCV allows users to display a window for given milliseconds or until any key is pressed.\n",
    "cv2.destroyAllWindows()# This closes all open windows,Failure to place this will cause your program to hang...."
   ]
  },
  {
   "cell_type": "code",
   "execution_count": 6,
   "id": "ea9c3627",
   "metadata": {},
   "outputs": [],
   "source": [
    "#as we run upper function command a new window will open with staored image....imread will read image in array and imshow will show us image ,waitkey will gives image foe some time and destroyallwindows is important command if this command is not used then our screen will hang...."
   ]
  },
  {
   "cell_type": "code",
   "execution_count": 7,
   "id": "92e38360",
   "metadata": {},
   "outputs": [
    {
     "data": {
      "text/plain": [
       "(1080, 1920, 3)"
      ]
     },
     "execution_count": 7,
     "metadata": {},
     "output_type": "execute_result"
    }
   ],
   "source": [
    "#now lwts see how image is read with no of pixels and dimenssions...\n",
    "a.shape#checks dimesnnsion and pixels for image read..."
   ]
  },
  {
   "cell_type": "code",
   "execution_count": 8,
   "id": "fa400afa",
   "metadata": {},
   "outputs": [],
   "source": [
    "#3 indicates colourful RGB image and 1080*1920 pixels format image is read by imread..."
   ]
  },
  {
   "cell_type": "code",
   "execution_count": 9,
   "id": "92cbfe1d",
   "metadata": {},
   "outputs": [
    {
     "name": "stdout",
     "output_type": "stream",
     "text": [
      "width of image 1080\n",
      "height of image 1920\n"
     ]
    }
   ],
   "source": [
    "print(\"width of image\",a.shape[0])\n",
    "print(\"height of image\",a.shape[1])"
   ]
  },
  {
   "cell_type": "code",
   "execution_count": 10,
   "id": "1e8e1b55",
   "metadata": {},
   "outputs": [
    {
     "data": {
      "text/plain": [
       "True"
      ]
     },
     "execution_count": 10,
     "metadata": {},
     "output_type": "execute_result"
    }
   ],
   "source": [
    "#now we can save image by imwrite in diff format as well like in png...\n",
    "cv2.imwrite(\"Messi_wc.jpg\",a)\n",
    "cv2.imwrite(\"Messi_wc.png\",a)"
   ]
  },
  {
   "cell_type": "code",
   "execution_count": 11,
   "id": "ddf7f4af",
   "metadata": {},
   "outputs": [],
   "source": [
    "#image will be saved in jupiter home by jpg and png format... we can see"
   ]
  },
  {
   "cell_type": "code",
   "execution_count": null,
   "id": "8998785e",
   "metadata": {},
   "outputs": [],
   "source": []
  }
 ],
 "metadata": {
  "kernelspec": {
   "display_name": "Python 3 (ipykernel)",
   "language": "python",
   "name": "python3"
  },
  "language_info": {
   "codemirror_mode": {
    "name": "ipython",
    "version": 3
   },
   "file_extension": ".py",
   "mimetype": "text/x-python",
   "name": "python",
   "nbconvert_exporter": "python",
   "pygments_lexer": "ipython3",
   "version": "3.9.13"
  }
 },
 "nbformat": 4,
 "nbformat_minor": 5
}
