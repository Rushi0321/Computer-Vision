{
 "cells": [
  {
   "cell_type": "code",
   "execution_count": 1,
   "id": "4c2123e4",
   "metadata": {},
   "outputs": [],
   "source": [
    "import cv2\n",
    "\n",
    "# Loading the cascades\n",
    "face_cascade = cv2.CascadeClassifier('C:\\haarcascade/haarcascade_frontalface_default.xml')\n",
    "eye_cascade = cv2.CascadeClassifier('C:\\haarcascade/haarcascade_eye.xml')\n",
    "\n",
    "# Defining a function that will do the detections\n",
    "def detect(gray, frame):#making a functio for eyes and facew detction...\n",
    "    faces = face_cascade.detectMultiScale(gray, 1.3, 5)#taking face haar classifier in face variable...\n",
    "    for (x, y, w, h) in faces:#taking four dimenssion for the face detection box...\n",
    "        cv2.rectangle(frame, (x, y), (x+w, y+h), (255, 0, 0), 2)#giving dimenssion for face detction box...\n",
    "        roi_gray = gray[y:y+h, x:x+w]#taking extra box for eyes detection in the face detection box...\n",
    "        roi_color = frame[y:y+h, x:x+w]#for rgb image...\n",
    "        eyes = eye_cascade.detectMultiScale(roi_gray, 1.1, 3)#taking eye detection haar classifier in eyes var...\n",
    "        for (ex, ey, ew, eh) in eyes:#taking dimenssion for the eyes detection box...\n",
    "            cv2.rectangle(roi_color, (ex, ey), (ex+ew, ey+eh), (0, 255, 0), 2)#now giving dimenssion to the eyes detection box...\n",
    "    return frame\n",
    "\n",
    "# Doing some Face Recognition with the webcam\n",
    "video_capture = cv2.VideoCapture(0)#videocapture function used to capture various no of frames from webcams...\n",
    "while True:\n",
    "    _, frame = video_capture.read()#then those frames are stored in frame variable...\n",
    "    gray = cv2.cvtColor(frame, cv2.COLOR_BGR2GRAY)#then that frame is converted into gray scaled image for easy analyising...\n",
    "    canvas = detect(gray, frame)#detecting for face and eyes from gray image and frame...\n",
    "    cv2.imshow('Video', canvas)#by imshow we are showing canvas which have detected face and eyes from video...\n",
    "    if cv2.waitKey(1) & 0xFF == ord('q'):#using q key to shut webcam after detecting face and eyes...\n",
    "        break\n",
    "video_capture.release()\n",
    "cv2.destroyAllWindows()"
   ]
  },
  {
   "cell_type": "code",
   "execution_count": null,
   "id": "e5fca0c5",
   "metadata": {},
   "outputs": [],
   "source": []
  }
 ],
 "metadata": {
  "kernelspec": {
   "display_name": "Python 3 (ipykernel)",
   "language": "python",
   "name": "python3"
  },
  "language_info": {
   "codemirror_mode": {
    "name": "ipython",
    "version": 3
   },
   "file_extension": ".py",
   "mimetype": "text/x-python",
   "name": "python",
   "nbconvert_exporter": "python",
   "pygments_lexer": "ipython3",
   "version": "3.9.13"
  }
 },
 "nbformat": 4,
 "nbformat_minor": 5
}
